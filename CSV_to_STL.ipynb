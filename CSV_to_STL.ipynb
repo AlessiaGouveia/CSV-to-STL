{
  "nbformat": 4,
  "nbformat_minor": 0,
  "metadata": {
    "colab": {
      "provenance": [],
      "authorship_tag": "ABX9TyMqPrgpLpwITsp5eCTw3axh",
      "include_colab_link": true
    },
    "kernelspec": {
      "name": "python3",
      "display_name": "Python 3"
    },
    "language_info": {
      "name": "python"
    }
  },
  "cells": [
    {
      "cell_type": "markdown",
      "metadata": {
        "id": "view-in-github",
        "colab_type": "text"
      },
      "source": [
        "<a href=\"https://colab.research.google.com/github/AlessiaGouveia/CSV-to-STL/blob/main/CSV_to_STL.ipynb\" target=\"_parent\"><img src=\"https://colab.research.google.com/assets/colab-badge.svg\" alt=\"Open In Colab\"/></a>"
      ]
    },
    {
      "cell_type": "code",
      "execution_count": null,
      "metadata": {
        "id": "StHPiW3QjfQ-"
      },
      "outputs": [],
      "source": [
        "# Function to read x, y, z coordinates from a CSV file\n",
        "def load_xyz_from_csv(file_path):\n",
        "    try:\n",
        "        df = pd.read_csv(file_path)\n",
        "        x = df.iloc[:, 0].values  # First column (x)\n",
        "        y = df.iloc[:, 1].values  # Second column (y)\n",
        "        z = df.iloc[:, 2].values  # Third column (z)\n",
        "\n",
        "        # Verify if any column contains missing values and remove these rows.\n",
        "        missing_value_rows = df[df.isnull().any(axis=1)].index\n",
        "        if len(missing_value_rows) > 0:\n",
        "            print(f\"Warning: Found {len(missing_value_rows)} rows with missing values. Removing these rows for proper processing.\")\n",
        "            df.dropna(inplace=True)\n",
        "        x = df.iloc[:, 0].values  # First column (x)\n",
        "        y = df.iloc[:, 1].values  # Second column (y)\n",
        "        z = df.iloc[:, 2].values  # Third column (z)\n",
        "        return x, y, z\n",
        "    except FileNotFoundError:\n",
        "        print(f\"Error: File not found at path {file_path}\")\n",
        "        return None, None, None\n",
        "    except Exception as e:\n",
        "        print(f\"Error reading CSV file: {e}\")\n",
        "        return None, None, None\n",
        "\n",
        "# Function to calculate the normal vector of a triangle\n",
        "def calculate_normal(triangle):\n",
        "    v1 = triangle[1] - triangle[0]\n",
        "    v2 = triangle[2] - triangle[0]\n",
        "    normal = np.cross(v1, v2)\n",
        "    norm = np.linalg.norm(normal)\n",
        "    if norm == 0:\n",
        "        return np.array([0, 0, 0])  # Return zero vector if triangle is degenerate\n",
        "    return normal / norm\n",
        "\n",
        "# Function to write the STL file\n",
        "def write_stl_triangle(file, v1, v2, v3, normal):\n",
        "    file.write('  facet normal {} {} {}\\n'.format(*normal))\n",
        "    file.write('    outer loop\\n')\n",
        "    file.write('      vertex {} {} {}\\n'.format(*v1))\n",
        "    file.write('      vertex {} {} {}\\n'.format(*v2))\n",
        "    file.write('      vertex {} {} {}\\n'.format(*v3))\n",
        "    file.write('    endloop\\n')\n",
        "    file.write('  endfacet\\n')\n",
        "\n",
        "def write_stl_file(file_path, points, triangulation):\n",
        "    with open(file_path, 'w') as f:\n",
        "        f.write('solid STL_from_CSV\\n')\n",
        "        for simplex in triangulation.simplices:\n",
        "            triangle = points[simplex]\n",
        "            normal = calculate_normal(triangle)\n",
        "            write_stl_triangle(f, triangle[0], triangle[1], triangle[2], normal)\n",
        "        f.write('endsolid STL_from_CSV\\n')\n",
        "\n",
        "\n",
        "# Load x, y, z coordinates from the CSV file\n",
        "x, y, z = load_xyz_from_csv(csv_name)\n",
        "\n",
        "# Check if the data loading was successful\n",
        "if x is None or y is None or z is None:\n",
        "    print(\"Failed to load data from the CSV file.\")\n",
        "    exit()\n",
        "\n",
        "# Combine x, y, and z into a single array of 3D points\n",
        "points = np.column_stack((x, y, z))\n",
        "\n",
        "# Triangulate the points for the surface plot (using x and y coordinates)\n",
        "points_2d = np.column_stack((x, y))\n",
        "try:\n",
        "    tri = Delaunay(points_2d)\n",
        "except Exception as e:\n",
        "    print(f\"Error during Delaunay triangulation or plotting: {e}\")\n",
        "    print(\"Check if the points are co-linear or form a degenerate configuration.\")\n",
        "    exit()\n",
        "\n",
        "# Create STL name\n",
        "stl_name = \"CSV_to_STL.stl\"\n",
        "\n",
        "# Generate STL file\n",
        "stl_file_path = stl_name\n",
        "try:\n",
        "    write_stl_file(stl_file_path, points, tri)\n",
        "    print(f\"STL file saved to {stl_file_path}\")\n",
        "except Exception as e:\n",
        "    print(f\"Error writing STL file: {e}\")"
      ]
    }
  ]
}